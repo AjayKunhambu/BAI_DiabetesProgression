{
 "cells": [
  {
   "cell_type": "code",
   "execution_count": 1,
   "metadata": {},
   "outputs": [],
   "source": [
    "import pandas as pd\n",
    "import numpy as np"
   ]
  },
  {
   "cell_type": "code",
   "execution_count": 2,
   "metadata": {},
   "outputs": [],
   "source": [
    "diabetes_df = pd.read_csv( \"HBA1C_Report_YESH.csv\", sep = \",\",encoding = \"ISO-8859-1\")"
   ]
  },
  {
   "cell_type": "code",
   "execution_count": 3,
   "metadata": {},
   "outputs": [
    {
     "data": {
      "text/html": [
       "<div>\n",
       "<style scoped>\n",
       "    .dataframe tbody tr th:only-of-type {\n",
       "        vertical-align: middle;\n",
       "    }\n",
       "\n",
       "    .dataframe tbody tr th {\n",
       "        vertical-align: top;\n",
       "    }\n",
       "\n",
       "    .dataframe thead th {\n",
       "        text-align: right;\n",
       "    }\n",
       "</style>\n",
       "<table border=\"1\" class=\"dataframe\">\n",
       "  <thead>\n",
       "    <tr style=\"text-align: right;\">\n",
       "      <th></th>\n",
       "      <th>patientid</th>\n",
       "      <th>visitno</th>\n",
       "      <th>patientfirstname</th>\n",
       "      <th>DOB</th>\n",
       "      <th>primarydoctorname</th>\n",
       "      <th>sampleid</th>\n",
       "      <th>createddate</th>\n",
       "      <th>Testcodeparameters</th>\n",
       "      <th>result</th>\n",
       "      <th>rangedescription</th>\n",
       "    </tr>\n",
       "  </thead>\n",
       "  <tbody>\n",
       "    <tr>\n",
       "      <th>0</th>\n",
       "      <td>YESH-0000151722</td>\n",
       "      <td>O0000000002-YESH</td>\n",
       "      <td>MINARA BEGUM</td>\n",
       "      <td>05-07-1984 00:00</td>\n",
       "      <td>self</td>\n",
       "      <td>Y000000100</td>\n",
       "      <td>19-08-2012 16:35</td>\n",
       "      <td>HBA1C</td>\n",
       "      <td>6.0</td>\n",
       "      <td>4.6 - 6.2%</td>\n",
       "    </tr>\n",
       "    <tr>\n",
       "      <th>1</th>\n",
       "      <td>YESH-0000152178</td>\n",
       "      <td>V0000000001-YESH</td>\n",
       "      <td>DAVID MESHACH S</td>\n",
       "      <td>11-12-1951 00:00</td>\n",
       "      <td>NISHANTH HIREMATH S</td>\n",
       "      <td>Y000000104</td>\n",
       "      <td>19-08-2012 16:36</td>\n",
       "      <td>HBA1C</td>\n",
       "      <td>8.5</td>\n",
       "      <td>4.6 - 6.2%</td>\n",
       "    </tr>\n",
       "    <tr>\n",
       "      <th>2</th>\n",
       "      <td>YESH-0000151658</td>\n",
       "      <td>O0000000002-YESH</td>\n",
       "      <td>PARIJAT DAS</td>\n",
       "      <td>30-03-1967 00:00</td>\n",
       "      <td>self</td>\n",
       "      <td>Y000000115</td>\n",
       "      <td>19-08-2012 16:37</td>\n",
       "      <td>HBA1C</td>\n",
       "      <td>8.5</td>\n",
       "      <td>4.6 - 6.2%</td>\n",
       "    </tr>\n",
       "  </tbody>\n",
       "</table>\n",
       "</div>"
      ],
      "text/plain": [
       "         patientid           visitno patientfirstname               DOB  \\\n",
       "0  YESH-0000151722  O0000000002-YESH     MINARA BEGUM  05-07-1984 00:00   \n",
       "1  YESH-0000152178  V0000000001-YESH  DAVID MESHACH S  11-12-1951 00:00   \n",
       "2  YESH-0000151658  O0000000002-YESH      PARIJAT DAS  30-03-1967 00:00   \n",
       "\n",
       "      primarydoctorname    sampleid       createddate Testcodeparameters  \\\n",
       "0                  self  Y000000100  19-08-2012 16:35              HBA1C   \n",
       "1  NISHANTH HIREMATH S   Y000000104  19-08-2012 16:36              HBA1C   \n",
       "2                  self  Y000000115  19-08-2012 16:37              HBA1C   \n",
       "\n",
       "  result rangedescription  \n",
       "0    6.0       4.6 - 6.2%  \n",
       "1    8.5       4.6 - 6.2%  \n",
       "2    8.5       4.6 - 6.2%  "
      ]
     },
     "execution_count": 3,
     "metadata": {},
     "output_type": "execute_result"
    }
   ],
   "source": [
    "diabetes_df.head( 3 )\n"
   ]
  },
  {
   "cell_type": "code",
   "execution_count": 4,
   "metadata": {},
   "outputs": [
    {
     "data": {
      "text/plain": [
       "(54792, 10)"
      ]
     },
     "execution_count": 4,
     "metadata": {},
     "output_type": "execute_result"
    }
   ],
   "source": [
    "diabetes_df.shape"
   ]
  },
  {
   "cell_type": "code",
   "execution_count": 5,
   "metadata": {},
   "outputs": [
    {
     "data": {
      "text/plain": [
       "patientid             object\n",
       "visitno               object\n",
       "patientfirstname      object\n",
       "DOB                   object\n",
       "primarydoctorname     object\n",
       "sampleid              object\n",
       "createddate           object\n",
       "Testcodeparameters    object\n",
       "result                object\n",
       "rangedescription      object\n",
       "dtype: object"
      ]
     },
     "execution_count": 5,
     "metadata": {},
     "output_type": "execute_result"
    }
   ],
   "source": [
    "diabetes_df.dtypes"
   ]
  },
  {
   "cell_type": "code",
   "execution_count": 6,
   "metadata": {},
   "outputs": [
    {
     "name": "stdout",
     "output_type": "stream",
     "text": [
      "<class 'pandas.core.frame.DataFrame'>\n",
      "RangeIndex: 54792 entries, 0 to 54791\n",
      "Data columns (total 10 columns):\n",
      "patientid             54792 non-null object\n",
      "visitno               54792 non-null object\n",
      "patientfirstname      54792 non-null object\n",
      "DOB                   54792 non-null datetime64[ns]\n",
      "primarydoctorname     46826 non-null object\n",
      "sampleid              54792 non-null object\n",
      "createddate           54792 non-null datetime64[ns]\n",
      "Testcodeparameters    54792 non-null object\n",
      "result                54788 non-null object\n",
      "rangedescription      54641 non-null object\n",
      "dtypes: datetime64[ns](2), object(8)\n",
      "memory usage: 4.2+ MB\n"
     ]
    }
   ],
   "source": [
    "diabetes_df['createddate'] = pd.to_datetime(diabetes_df['createddate'])\n",
    "diabetes_df['DOB'] = pd.to_datetime(diabetes_df['DOB'])\n",
    "diabetes_df.info()"
   ]
  },
  {
   "cell_type": "code",
   "execution_count": 7,
   "metadata": {},
   "outputs": [
    {
     "data": {
      "text/plain": [
       "patientid                0\n",
       "visitno                  0\n",
       "patientfirstname         0\n",
       "DOB                      0\n",
       "primarydoctorname     7966\n",
       "sampleid                 0\n",
       "createddate              0\n",
       "Testcodeparameters       0\n",
       "result                   4\n",
       "rangedescription       151\n",
       "dtype: int64"
      ]
     },
     "execution_count": 7,
     "metadata": {},
     "output_type": "execute_result"
    }
   ],
   "source": [
    "diabetes_df.isnull().sum(axis=0)"
   ]
  },
  {
   "cell_type": "code",
   "execution_count": 8,
   "metadata": {},
   "outputs": [],
   "source": [
    "diabetesPatient = diabetes_df[['patientfirstname','DOB','patientid']].copy()\n",
    "diabetesPatient = diabetesPatient.groupby(['patientfirstname','DOB']).count()\n"
   ]
  },
  {
   "cell_type": "code",
   "execution_count": 9,
   "metadata": {},
   "outputs": [],
   "source": [
    "import warnings\n",
    "warnings.filterwarnings('ignore')\n",
    "\n",
    "diabetesPatient.sort_index(by=['patientid'],ascending=False).to_csv('DiabetesGrouping.csv', sep=',', encoding='utf-8')\n"
   ]
  },
  {
   "cell_type": "code",
   "execution_count": 10,
   "metadata": {},
   "outputs": [],
   "source": [
    "diabetes_df.sort_values(by=['patientfirstname','DOB','createddate'],ascending=False, inplace=True)\n"
   ]
  },
  {
   "cell_type": "code",
   "execution_count": 61,
   "metadata": {},
   "outputs": [],
   "source": [
    "diabetes_df_copy = pd.DataFrame(columns=diabetes_df.columns)\n",
    "diabetes_df_copy[\"prediabetesdate\"] = \"\"\n",
    "diabetes_df_copy[\"prediabetesresult\"] = \"\""
   ]
  },
  {
   "cell_type": "code",
   "execution_count": 62,
   "metadata": {},
   "outputs": [],
   "source": [
    "groupKey = diabetes_df.iloc[0]['patientfirstname'] + row['patientid'] + str(diabetes_df.iloc[0]['DOB'])"
   ]
  },
  {
   "cell_type": "code",
   "execution_count": 63,
   "metadata": {},
   "outputs": [
    {
     "data": {
      "text/plain": [
       "(0, 12)"
      ]
     },
     "execution_count": 63,
     "metadata": {},
     "output_type": "execute_result"
    }
   ],
   "source": [
    "diabetes_df_copy.shape"
   ]
  },
  {
   "cell_type": "code",
   "execution_count": 64,
   "metadata": {},
   "outputs": [],
   "source": [
    "def isfloat(value):\n",
    "  try:\n",
    "    float(value)\n",
    "    return True\n",
    "  except ValueError:\n",
    "    return False"
   ]
  },
  {
   "cell_type": "code",
   "execution_count": 65,
   "metadata": {},
   "outputs": [],
   "source": [
    "from datetime import datetime\n",
    "from dateutil import relativedelta\n",
    "\n",
    "foundDiabetic = False\n",
    "foundPreDiabetic = False\n",
    "found1 = False\n",
    "found2 = False\n",
    "foundRecord = False\n",
    "diabeticRow = \"\"\n",
    "found1Row = \"\"\n",
    "found2Row = \"\"\n",
    "f1Row = \"\"\n",
    "f2Row = \"\"\n"
   ]
  },
  {
   "cell_type": "code",
   "execution_count": 66,
   "metadata": {},
   "outputs": [],
   "source": [
    "for index, row in diabetes_df.iterrows():\n",
    "    currentKey = row['patientfirstname'] + row['patientid'] + str(row['DOB'])\n",
    "    if currentKey != groupKey:\n",
    "        groupKey = currentKey\n",
    "        \n",
    "        if foundRecord == False and found1 == True and found2 == True:\n",
    "            found1Row = pd.Series.to_frame(f1Row).T\n",
    "            found2Row = pd.Series.to_frame(f2Row).T\n",
    "            \n",
    "            found1Row[\"prediabetesdate\"] = f2Row['createddate']\n",
    "            found1Row[\"prediabetesresult\"] = f2Row['result']\n",
    "            difference = relativedelta.relativedelta(f1Row['createddate'], f1Row['DOB'])\n",
    "            age =  float(difference.years)\n",
    "            found1Row[\"age\"] = age\n",
    "            found1Row[\"agegroup\"] = \"\"\n",
    "            \n",
    "            if age >= 18 and age <= 29:\n",
    "               found1Row[\"agegroup\"] = \"18-29\"\n",
    "            if age >= 30 and age <= 39:\n",
    "               found1Row[\"agegroup\"] = \"30-39\"\n",
    "            if age >= 40 and age <= 50:\n",
    "               found1Row[\"agegroup\"] = \"40-50\"\n",
    "            if age >= 51:\n",
    "               found1Row[\"agegroup\"] = \"51+\"\n",
    "            found1Row[\"isdiabetic\"] = 0\n",
    "            diabetes_df_copy = diabetes_df_copy.append(found1Row)\n",
    "        \n",
    "        foundDiabetic = False\n",
    "        foundPreDiabetic = False\n",
    "        found1 = False\n",
    "        found2 = False\n",
    "        foundRecord = False\n",
    "        \n",
    "    if isfloat(row['result']):\n",
    "        \n",
    "        if found1 == True and found2 == False and float(row['result']) > 5.6 and float(row['result']) < 6.5:\n",
    "            f2Row = row\n",
    "            found2 = True\n",
    "        \n",
    "        if found1 == False:\n",
    "            f1Row = row\n",
    "            found1 = True\n",
    "            \n",
    "\n",
    "        \n",
    "        if float(row['result']) >= 6.5 and foundDiabetic == False:\n",
    "            foundDiabetic = True\n",
    "            diabeticRow = pd.Series.to_frame(row).T\n",
    "            diabeticRow[\"isdiabetic\"] = 1\n",
    "\n",
    "        if float(row['result']) > 5.6 and float(row['result']) < 6.5 and foundDiabetic == True and foundPreDiabetic == False:\n",
    "            foundPreDiabetic = True\n",
    "            diabeticRow[\"prediabetesdate\"] = row['createddate']\n",
    "            diabeticRow[\"prediabetesresult\"] = row['result']\n",
    "            difference = relativedelta.relativedelta(row['createddate'], row['DOB'])\n",
    "            age =  float(difference.years)\n",
    "            diabeticRow[\"age\"] = age\n",
    "            diabeticRow[\"agegroup\"] = \"\"\n",
    "            \n",
    "            if age >= 18 and age <= 29:\n",
    "               diabeticRow[\"agegroup\"] = \"18-29\"\n",
    "            if age >= 30 and age <= 39:\n",
    "               diabeticRow[\"agegroup\"] = \"30-39\"\n",
    "            if age >= 40 and age <= 50:\n",
    "               diabeticRow[\"agegroup\"] = \"40-50\"\n",
    "            if age >= 51:\n",
    "               diabeticRow[\"agegroup\"] = \"51+\"\n",
    "            \n",
    "            diabetes_df_copy = diabetes_df_copy.append(diabeticRow) \n",
    "            foundRecord = True"
   ]
  },
  {
   "cell_type": "code",
   "execution_count": 83,
   "metadata": {},
   "outputs": [],
   "source": [
    "diabetes_df_copy['result'] = pd.to_numeric(diabetes_df_copy['result'])\n",
    "diabetes_df_copy['prediabetesresult'] = pd.to_numeric(diabetes_df_copy['prediabetesresult'])"
   ]
  },
  {
   "cell_type": "code",
   "execution_count": 84,
   "metadata": {},
   "outputs": [
    {
     "data": {
      "text/plain": [
       "(2660, 15)"
      ]
     },
     "execution_count": 84,
     "metadata": {},
     "output_type": "execute_result"
    }
   ],
   "source": [
    "diabetes_df_copy.shape"
   ]
  },
  {
   "cell_type": "code",
   "execution_count": 85,
   "metadata": {},
   "outputs": [],
   "source": [
    "diabetes_df_copy.to_csv('DiabetesClean.csv', sep=',', encoding='utf-8')"
   ]
  },
  {
   "cell_type": "code",
   "execution_count": 86,
   "metadata": {},
   "outputs": [],
   "source": [
    "import matplotlib.pyplot as plt\n",
    "import seaborn as sn\n",
    "%matplotlib inline"
   ]
  },
  {
   "cell_type": "code",
   "execution_count": 87,
   "metadata": {},
   "outputs": [
    {
     "data": {
      "text/html": [
       "<div>\n",
       "<style scoped>\n",
       "    .dataframe tbody tr th:only-of-type {\n",
       "        vertical-align: middle;\n",
       "    }\n",
       "\n",
       "    .dataframe tbody tr th {\n",
       "        vertical-align: top;\n",
       "    }\n",
       "\n",
       "    .dataframe thead th {\n",
       "        text-align: right;\n",
       "    }\n",
       "</style>\n",
       "<table border=\"1\" class=\"dataframe\">\n",
       "  <thead>\n",
       "    <tr style=\"text-align: right;\">\n",
       "      <th></th>\n",
       "      <th>age</th>\n",
       "      <th>isdiabetic</th>\n",
       "      <th>prediabetesresult</th>\n",
       "      <th>result</th>\n",
       "    </tr>\n",
       "  </thead>\n",
       "  <tbody>\n",
       "    <tr>\n",
       "      <th>count</th>\n",
       "      <td>2660.000000</td>\n",
       "      <td>2660.000000</td>\n",
       "      <td>2660.000000</td>\n",
       "      <td>2660.000000</td>\n",
       "    </tr>\n",
       "    <tr>\n",
       "      <th>mean</th>\n",
       "      <td>55.449624</td>\n",
       "      <td>0.365038</td>\n",
       "      <td>6.054098</td>\n",
       "      <td>6.423647</td>\n",
       "    </tr>\n",
       "    <tr>\n",
       "      <th>std</th>\n",
       "      <td>14.260435</td>\n",
       "      <td>0.481531</td>\n",
       "      <td>0.233170</td>\n",
       "      <td>1.666043</td>\n",
       "    </tr>\n",
       "    <tr>\n",
       "      <th>min</th>\n",
       "      <td>7.000000</td>\n",
       "      <td>0.000000</td>\n",
       "      <td>5.700000</td>\n",
       "      <td>4.000000</td>\n",
       "    </tr>\n",
       "    <tr>\n",
       "      <th>25%</th>\n",
       "      <td>45.000000</td>\n",
       "      <td>0.000000</td>\n",
       "      <td>5.800000</td>\n",
       "      <td>5.800000</td>\n",
       "    </tr>\n",
       "    <tr>\n",
       "      <th>50%</th>\n",
       "      <td>55.000000</td>\n",
       "      <td>0.000000</td>\n",
       "      <td>6.100000</td>\n",
       "      <td>6.200000</td>\n",
       "    </tr>\n",
       "    <tr>\n",
       "      <th>75%</th>\n",
       "      <td>66.000000</td>\n",
       "      <td>1.000000</td>\n",
       "      <td>6.300000</td>\n",
       "      <td>6.700000</td>\n",
       "    </tr>\n",
       "    <tr>\n",
       "      <th>max</th>\n",
       "      <td>99.000000</td>\n",
       "      <td>1.000000</td>\n",
       "      <td>6.400000</td>\n",
       "      <td>72.000000</td>\n",
       "    </tr>\n",
       "  </tbody>\n",
       "</table>\n",
       "</div>"
      ],
      "text/plain": [
       "               age   isdiabetic  prediabetesresult       result\n",
       "count  2660.000000  2660.000000        2660.000000  2660.000000\n",
       "mean     55.449624     0.365038           6.054098     6.423647\n",
       "std      14.260435     0.481531           0.233170     1.666043\n",
       "min       7.000000     0.000000           5.700000     4.000000\n",
       "25%      45.000000     0.000000           5.800000     5.800000\n",
       "50%      55.000000     0.000000           6.100000     6.200000\n",
       "75%      66.000000     1.000000           6.300000     6.700000\n",
       "max      99.000000     1.000000           6.400000    72.000000"
      ]
     },
     "execution_count": 87,
     "metadata": {},
     "output_type": "execute_result"
    }
   ],
   "source": [
    "diabetes_df_copy.describe()"
   ]
  },
  {
   "cell_type": "code",
   "execution_count": 88,
   "metadata": {},
   "outputs": [
    {
     "data": {
      "text/html": [
       "<div>\n",
       "<style scoped>\n",
       "    .dataframe tbody tr th:only-of-type {\n",
       "        vertical-align: middle;\n",
       "    }\n",
       "\n",
       "    .dataframe tbody tr th {\n",
       "        vertical-align: top;\n",
       "    }\n",
       "\n",
       "    .dataframe thead th {\n",
       "        text-align: right;\n",
       "    }\n",
       "</style>\n",
       "<table border=\"1\" class=\"dataframe\">\n",
       "  <thead>\n",
       "    <tr style=\"text-align: right;\">\n",
       "      <th>isdiabetic</th>\n",
       "      <th>0.0</th>\n",
       "      <th>1.0</th>\n",
       "    </tr>\n",
       "    <tr>\n",
       "      <th>agegroup</th>\n",
       "      <th></th>\n",
       "      <th></th>\n",
       "    </tr>\n",
       "  </thead>\n",
       "  <tbody>\n",
       "    <tr>\n",
       "      <th></th>\n",
       "      <td>2</td>\n",
       "      <td>2</td>\n",
       "    </tr>\n",
       "    <tr>\n",
       "      <th>18-29</th>\n",
       "      <td>56</td>\n",
       "      <td>16</td>\n",
       "    </tr>\n",
       "    <tr>\n",
       "      <th>30-39</th>\n",
       "      <td>213</td>\n",
       "      <td>93</td>\n",
       "    </tr>\n",
       "    <tr>\n",
       "      <th>40-50</th>\n",
       "      <td>431</td>\n",
       "      <td>218</td>\n",
       "    </tr>\n",
       "    <tr>\n",
       "      <th>51+</th>\n",
       "      <td>987</td>\n",
       "      <td>642</td>\n",
       "    </tr>\n",
       "  </tbody>\n",
       "</table>\n",
       "</div>"
      ],
      "text/plain": [
       "isdiabetic  0.0  1.0\n",
       "agegroup            \n",
       "              2    2\n",
       "18-29        56   16\n",
       "30-39       213   93\n",
       "40-50       431  218\n",
       "51+         987  642"
      ]
     },
     "execution_count": 88,
     "metadata": {},
     "output_type": "execute_result"
    }
   ],
   "source": [
    "\n",
    "pd.crosstab( diabetes_df_copy.agegroup, diabetes_df_copy.isdiabetic)"
   ]
  },
  {
   "cell_type": "code",
   "execution_count": 89,
   "metadata": {},
   "outputs": [
    {
     "data": {
      "text/html": [
       "<div>\n",
       "<style scoped>\n",
       "    .dataframe tbody tr th:only-of-type {\n",
       "        vertical-align: middle;\n",
       "    }\n",
       "\n",
       "    .dataframe tbody tr th {\n",
       "        vertical-align: top;\n",
       "    }\n",
       "\n",
       "    .dataframe thead th {\n",
       "        text-align: right;\n",
       "    }\n",
       "</style>\n",
       "<table border=\"1\" class=\"dataframe\">\n",
       "  <thead>\n",
       "    <tr style=\"text-align: right;\">\n",
       "      <th>isdiabetic</th>\n",
       "      <th>0.0</th>\n",
       "      <th>1.0</th>\n",
       "    </tr>\n",
       "    <tr>\n",
       "      <th>agegroup</th>\n",
       "      <th></th>\n",
       "      <th></th>\n",
       "    </tr>\n",
       "  </thead>\n",
       "  <tbody>\n",
       "    <tr>\n",
       "      <th></th>\n",
       "      <td>0.500000</td>\n",
       "      <td>0.500000</td>\n",
       "    </tr>\n",
       "    <tr>\n",
       "      <th>18-29</th>\n",
       "      <td>0.777778</td>\n",
       "      <td>0.222222</td>\n",
       "    </tr>\n",
       "    <tr>\n",
       "      <th>30-39</th>\n",
       "      <td>0.696078</td>\n",
       "      <td>0.303922</td>\n",
       "    </tr>\n",
       "    <tr>\n",
       "      <th>40-50</th>\n",
       "      <td>0.664099</td>\n",
       "      <td>0.335901</td>\n",
       "    </tr>\n",
       "    <tr>\n",
       "      <th>51+</th>\n",
       "      <td>0.605893</td>\n",
       "      <td>0.394107</td>\n",
       "    </tr>\n",
       "  </tbody>\n",
       "</table>\n",
       "</div>"
      ],
      "text/plain": [
       "isdiabetic       0.0       1.0\n",
       "agegroup                      \n",
       "            0.500000  0.500000\n",
       "18-29       0.777778  0.222222\n",
       "30-39       0.696078  0.303922\n",
       "40-50       0.664099  0.335901\n",
       "51+         0.605893  0.394107"
      ]
     },
     "execution_count": 89,
     "metadata": {},
     "output_type": "execute_result"
    }
   ],
   "source": [
    "pd.crosstab( diabetes_df_copy.agegroup, diabetes_df_copy.isdiabetic, normalize = \"index\")"
   ]
  },
  {
   "cell_type": "code",
   "execution_count": 90,
   "metadata": {},
   "outputs": [
    {
     "data": {
      "image/png": "[encoded data removed]",
      "text/plain": [
       "<matplotlib.figure.Figure at 0x2de378399e8>"
      ]
     },
     "metadata": {},
     "output_type": "display_data"
    }
   ],
   "source": [
    "sn.heatmap( diabetes_df_copy.corr(), annot=True );"
   ]
  },
  {
   "cell_type": "code",
   "execution_count": 91,
   "metadata": {},
   "outputs": [
    {
     "data": {
      "text/plain": [
       "<seaborn.axisgrid.FacetGrid at 0x2de3118fda0>"
      ]
     },
     "execution_count": 91,
     "metadata": {},
     "output_type": "execute_result"
    },
    {
     "data": {
      "image/png": "[encoded data removed]",
      "text/plain": [
       "<matplotlib.figure.Figure at 0x2de378a6550>"
      ]
     },
     "metadata": {},
     "output_type": "display_data"
    }
   ],
   "source": [
    "sn.factorplot(x=\"agegroup\", data=diabetes_df_copy,\n",
    "               size=4, kind=\"count\", palette=\"muted\")"
   ]
  },
  {
   "cell_type": "code",
   "execution_count": 75,
   "metadata": {},
   "outputs": [
    {
     "data": {
      "text/plain": [
       "<seaborn.axisgrid.FacetGrid at 0x2de34fded30>"
      ]
     },
     "execution_count": 75,
     "metadata": {},
     "output_type": "execute_result"
    },
    {
     "data": {
      "image/png": "[encoded data removed]",
      "text/plain": [
       "<matplotlib.figure.Figure at 0x2de366e3cf8>"
      ]
     },
     "metadata": {},
     "output_type": "display_data"
    }
   ],
   "source": [
    "sn.factorplot(x=\"agegroup\", hue = 'isdiabetic', data=diabetes_df_copy,\n",
    "               size=4, kind=\"count\", palette=\"muted\")"
   ]
  },
  {
   "cell_type": "code",
   "execution_count": 76,
   "metadata": {},
   "outputs": [
    {
     "data": {
      "text/plain": [
       "<seaborn.axisgrid.FacetGrid at 0x2de35141470>"
      ]
     },
     "execution_count": 76,
     "metadata": {},
     "output_type": "execute_result"
    },
    {
     "data": {
      "image/png": "[encoded data removed]",
      "text/plain": [
       "<matplotlib.figure.Figure at 0x2de34faca20>"
      ]
     },
     "metadata": {},
     "output_type": "display_data"
    }
   ],
   "source": [
    "sn.factorplot(x=\"isdiabetic\", data=diabetes_df_copy,\n",
    "               size=4, kind=\"count\", palette=\"muted\")"
   ]
  },
  {
   "cell_type": "code",
   "execution_count": 77,
   "metadata": {},
   "outputs": [
    {
     "data": {
      "text/plain": [
       "<seaborn.axisgrid.FacetGrid at 0x2de38462a90>"
      ]
     },
     "execution_count": 77,
     "metadata": {},
     "output_type": "execute_result"
    },
    {
     "data": {
      "image/png": "[encoded data removed]",
      "text/plain": [
       "<matplotlib.figure.Figure at 0x2de37da09e8>"
      ]
     },
     "metadata": {},
     "output_type": "display_data"
    }
   ],
   "source": [
    "sn.factorplot(x=\"isdiabetic\", hue = 'agegroup', data=diabetes_df_copy,\n",
    "               size=4, kind=\"count\", palette=\"muted\")"
   ]
  },
  {
   "cell_type": "code",
   "execution_count": 78,
   "metadata": {},
   "outputs": [
    {
     "data": {
      "text/plain": [
       "<matplotlib.axes._subplots.AxesSubplot at 0x2de3086ec50>"
      ]
     },
     "execution_count": 78,
     "metadata": {},
     "output_type": "execute_result"
    },
    {
     "data": {
      "image/png": "[encoded data removed]",
      "text/plain": [
       "<matplotlib.figure.Figure at 0x2de377efb70>"
      ]
     },
     "metadata": {},
     "output_type": "display_data"
    }
   ],
   "source": [
    "sn.barplot( x = 'age',\n",
    "         y = 'isdiabetic',\n",
    "         data = diabetes_df_copy,\n",
    "         estimator = sum )"
   ]
  },
  {
   "cell_type": "code",
   "execution_count": null,
   "metadata": {},
   "outputs": [],
   "source": []
  },
  {
   "cell_type": "code",
   "execution_count": null,
   "metadata": {},
   "outputs": [],
   "source": []
  },
  {
   "cell_type": "code",
   "execution_count": null,
   "metadata": {},
   "outputs": [],
   "source": []
  },
  {
   "cell_type": "code",
   "execution_count": null,
   "metadata": {},
   "outputs": [],
   "source": []
  }
 ],
 "metadata": {
  "kernelspec": {
   "display_name": "Python 3",
   "language": "python",
   "name": "python3"
  },
  "language_info": {
   "codemirror_mode": {
    "name": "ipython",
    "version": 3
   },
   "file_extension": ".py",
   "mimetype": "text/x-python",
   "name": "python",
   "nbconvert_exporter": "python",
   "pygments_lexer": "ipython3",
   "version": "3.6.4"
  }
 },
 "nbformat": 4,
 "nbformat_minor": 2
}
