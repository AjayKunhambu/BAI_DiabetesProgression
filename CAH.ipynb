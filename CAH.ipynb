{
 "cells": [
  {
   "cell_type": "code",
   "execution_count": null,
   "metadata": {},
   "outputs": [],
   "source": [
    "import pandas as pd\n",
    "import numpy as np"
   ]
  },
  {
   "cell_type": "code",
   "execution_count": null,
   "metadata": {},
   "outputs": [],
   "source": [
    "diabetes_df = pd.read_csv( \"HBA1C_Report_YESH.csv\", sep = \",\",encoding = \"ISO-8859-1\")"
   ]
  },
  {
   "cell_type": "code",
   "execution_count": null,
   "metadata": {},
   "outputs": [],
   "source": [
    "diabetes_df.head( 3 )\n"
   ]
  },
  {
   "cell_type": "code",
   "execution_count": null,
   "metadata": {},
   "outputs": [],
   "source": [
    "diabetes_df.shape"
   ]
  },
  {
   "cell_type": "code",
   "execution_count": null,
   "metadata": {},
   "outputs": [],
   "source": [
    "diabetes_df.dtypes"
   ]
  },
  {
   "cell_type": "code",
   "execution_count": null,
   "metadata": {},
   "outputs": [],
   "source": [
    "diabetes_df['createddate'] = pd.to_datetime(diabetes_df['createddate'])\n",
    "diabetes_df['DOB'] = pd.to_datetime(diabetes_df['DOB'])\n",
    "diabetes_df.info()"
   ]
  },
  {
   "cell_type": "code",
   "execution_count": null,
   "metadata": {},
   "outputs": [],
   "source": [
    "diabetes_df.isnull().sum(axis=0)"
   ]
  },
  {
   "cell_type": "code",
   "execution_count": null,
   "metadata": {},
   "outputs": [],
   "source": [
    "diabetesPatient = diabetes_df[['patientfirstname','DOB','patientid']].copy()\n",
    "diabetesPatient = diabetesPatient.groupby(['patientfirstname','DOB']).count()\n"
   ]
  },
  {
   "cell_type": "code",
   "execution_count": null,
   "metadata": {},
   "outputs": [],
   "source": [
    "import warnings\n",
    "warnings.filterwarnings('ignore')\n",
    "\n",
    "diabetesPatient.sort_index(by=['patientid'],ascending=False).to_csv('DiabetesGrouping.csv', sep=',', encoding='utf-8')\n"
   ]
  },
  {
   "cell_type": "code",
   "execution_count": null,
   "metadata": {},
   "outputs": [],
   "source": [
    "diabetes_df.sort_values(by=['patientfirstname','DOB','createddate'],ascending=False, inplace=True)\n"
   ]
  },
  {
   "cell_type": "code",
   "execution_count": null,
   "metadata": {},
   "outputs": [],
   "source": [
    "diabetes_df_copy = pd.DataFrame(columns=diabetes_df.columns)\n",
    "diabetes_df_copy[\"prediabetesdate\"] = \"\"\n",
    "diabetes_df_copy[\"prediabetesresult\"] = \"\""
   ]
  },
  {
   "cell_type": "code",
   "execution_count": null,
   "metadata": {},
   "outputs": [],
   "source": [
    "groupKey = diabetes_df.iloc[0]['patientfirstname'] + row['patientid'] + str(diabetes_df.iloc[0]['DOB'])"
   ]
  },
  {
   "cell_type": "code",
   "execution_count": null,
   "metadata": {},
   "outputs": [],
   "source": [
    "diabetes_df_copy.shape"
   ]
  },
  {
   "cell_type": "code",
   "execution_count": null,
   "metadata": {},
   "outputs": [],
   "source": [
    "def isfloat(value):\n",
    "  try:\n",
    "    float(value)\n",
    "    return True\n",
    "  except ValueError:\n",
    "    return False"
   ]
  },
  {
   "cell_type": "code",
   "execution_count": null,
   "metadata": {},
   "outputs": [],
   "source": [
    "from datetime import datetime\n",
    "from dateutil import relativedelta\n",
    "\n",
    "foundDiabetic = False\n",
    "foundPreDiabetic = False\n",
    "found1 = False\n",
    "found2 = False\n",
    "foundRecord = False\n",
    "diabeticRow = \"\"\n",
    "found1Row = \"\"\n",
    "found2Row = \"\"\n",
    "f1Row = \"\"\n",
    "f2Row = \"\"\n"
   ]
  },
  {
   "cell_type": "code",
   "execution_count": null,
   "metadata": {},
   "outputs": [],
   "source": [
    "for index, row in diabetes_df.iterrows():\n",
    "    currentKey = row['patientfirstname'] + row['patientid'] + str(row['DOB'])\n",
    "    if currentKey != groupKey:\n",
    "        groupKey = currentKey\n",
    "        \n",
    "        if foundRecord == False and found1 == True and found2 == True:\n",
    "            found1Row = pd.Series.to_frame(f1Row).T\n",
    "            found2Row = pd.Series.to_frame(f2Row).T\n",
    "            \n",
    "            found1Row[\"prediabetesdate\"] = f2Row['createddate']\n",
    "            found1Row[\"prediabetesresult\"] = f2Row['result']\n",
    "            difference = relativedelta.relativedelta(f1Row['createddate'], f1Row['DOB'])\n",
    "            age =  float(difference.years)\n",
    "            found1Row[\"age\"] = age\n",
    "            found1Row[\"agegroup\"] = \"\"\n",
    "            \n",
    "            if age >= 18 and age <= 29:\n",
    "               found1Row[\"agegroup\"] = \"18-29\"\n",
    "            if age >= 30 and age <= 39:\n",
    "               found1Row[\"agegroup\"] = \"30-39\"\n",
    "            if age >= 40 and age <= 50:\n",
    "               found1Row[\"agegroup\"] = \"40-50\"\n",
    "            if age >= 51:\n",
    "               found1Row[\"agegroup\"] = \"51+\"\n",
    "            found1Row[\"isdiabetic\"] = 0\n",
    "            diabetes_df_copy = diabetes_df_copy.append(found1Row)\n",
    "        \n",
    "        foundDiabetic = False\n",
    "        foundPreDiabetic = False\n",
    "        found1 = False\n",
    "        found2 = False\n",
    "        foundRecord = False\n",
    "        \n",
    "    if isfloat(row['result']):\n",
    "        \n",
    "        if found1 == True and found2 == False and float(row['result']) > 5.6 and float(row['result']) < 6.5:\n",
    "            f2Row = row\n",
    "            found2 = True\n",
    "        \n",
    "        if found1 == False:\n",
    "            f1Row = row\n",
    "            found1 = True\n",
    "            \n",
    "\n",
    "        \n",
    "        if float(row['result']) >= 6.5 and foundDiabetic == False:\n",
    "            foundDiabetic = True\n",
    "            diabeticRow = pd.Series.to_frame(row).T\n",
    "            diabeticRow[\"isdiabetic\"] = 1\n",
    "\n",
    "        if float(row['result']) > 5.6 and float(row['result']) < 6.5 and foundDiabetic == True and foundPreDiabetic == False:\n",
    "            foundPreDiabetic = True\n",
    "            diabeticRow[\"prediabetesdate\"] = row['createddate']\n",
    "            diabeticRow[\"prediabetesresult\"] = row['result']\n",
    "            difference = relativedelta.relativedelta(row['createddate'], row['DOB'])\n",
    "            age =  float(difference.years)\n",
    "            diabeticRow[\"age\"] = age\n",
    "            diabeticRow[\"agegroup\"] = \"\"\n",
    "            \n",
    "            if age >= 18 and age <= 29:\n",
    "               diabeticRow[\"agegroup\"] = \"18-29\"\n",
    "            if age >= 30 and age <= 39:\n",
    "               diabeticRow[\"agegroup\"] = \"30-39\"\n",
    "            if age >= 40 and age <= 50:\n",
    "               diabeticRow[\"agegroup\"] = \"40-50\"\n",
    "            if age >= 51:\n",
    "               diabeticRow[\"agegroup\"] = \"51+\"\n",
    "            \n",
    "            diabetes_df_copy = diabetes_df_copy.append(diabeticRow) \n",
    "            foundRecord = True"
   ]
  },
  {
   "cell_type": "code",
   "execution_count": null,
   "metadata": {},
   "outputs": [],
   "source": [
    "diabetes_df_copy['result'] = pd.to_numeric(diabetes_df_copy['result'])\n",
    "diabetes_df_copy['prediabetesresult'] = pd.to_numeric(diabetes_df_copy['prediabetesresult'])"
   ]
  },
  {
   "cell_type": "code",
   "execution_count": null,
   "metadata": {},
   "outputs": [],
   "source": [
    "diabetes_df_copy.shape"
   ]
  },
  {
   "cell_type": "code",
   "execution_count": null,
   "metadata": {},
   "outputs": [],
   "source": [
    "diabetes_df_copy.to_csv('DiabetesClean.csv', sep=',', encoding='utf-8')"
   ]
  },
  {
   "cell_type": "code",
   "execution_count": null,
   "metadata": {},
   "outputs": [],
   "source": [
    "import matplotlib.pyplot as plt\n",
    "import seaborn as sn\n",
    "%matplotlib inline"
   ]
  },
  {
   "cell_type": "code",
   "execution_count": null,
   "metadata": {},
   "outputs": [],
   "source": [
    "diabetes_df_copy.describe()"
   ]
  },
  {
   "cell_type": "code",
   "execution_count": null,
   "metadata": {},
   "outputs": [],
   "source": [
    "\n",
    "pd.crosstab( diabetes_df_copy.agegroup, diabetes_df_copy.isdiabetic)"
   ]
  },
  {
   "cell_type": "code",
   "execution_count": null,
   "metadata": {},
   "outputs": [],
   "source": [
    "pd.crosstab( diabetes_df_copy.agegroup, diabetes_df_copy.isdiabetic, normalize = \"index\")"
   ]
  },
  {
   "cell_type": "code",
   "execution_count": null,
   "metadata": {},
   "outputs": [],
   "source": [
    "sn.heatmap( diabetes_df_copy.corr(), annot=True );"
   ]
  },
  {
   "cell_type": "code",
   "execution_count": null,
   "metadata": {},
   "outputs": [],
   "source": [
    "sn.factorplot(x=\"agegroup\", data=diabetes_df_copy,\n",
    "               size=4, kind=\"count\", palette=\"muted\")"
   ]
  },
  {
   "cell_type": "code",
   "execution_count": null,
   "metadata": {},
   "outputs": [],
   "source": [
    "sn.factorplot(x=\"agegroup\", hue = 'isdiabetic', data=diabetes_df_copy,\n",
    "               size=4, kind=\"count\", palette=\"muted\")"
   ]
  },
  {
   "cell_type": "code",
   "execution_count": null,
   "metadata": {},
   "outputs": [],
   "source": [
    "sn.factorplot(x=\"isdiabetic\", data=diabetes_df_copy,\n",
    "               size=4, kind=\"count\", palette=\"muted\")"
   ]
  },
  {
   "cell_type": "code",
   "execution_count": null,
   "metadata": {},
   "outputs": [],
   "source": [
    "sn.factorplot(x=\"isdiabetic\", hue = 'agegroup', data=diabetes_df_copy,\n",
    "               size=4, kind=\"count\", palette=\"muted\")"
   ]
  },
  {
   "cell_type": "code",
   "execution_count": null,
   "metadata": {},
   "outputs": [],
   "source": [
    "sn.barplot( x = 'age',\n",
    "         y = 'isdiabetic',\n",
    "         data = diabetes_df_copy,\n",
    "         estimator = sum )"
   ]
  },
  {
   "cell_type": "code",
   "execution_count": null,
   "metadata": {},
   "outputs": [],
   "source": []
  },
  {
   "cell_type": "code",
   "execution_count": null,
   "metadata": {},
   "outputs": [],
   "source": []
  },
  {
   "cell_type": "code",
   "execution_count": null,
   "metadata": {},
   "outputs": [],
   "source": []
  },
  {
   "cell_type": "code",
   "execution_count": null,
   "metadata": {},
   "outputs": [],
   "source": []
  }
 ],
 "metadata": {
  "kernelspec": {
   "display_name": "Python 3",
   "language": "python",
   "name": "python3"
  },
  "language_info": {
   "codemirror_mode": {
    "name": "ipython",
    "version": 3
   },
   "file_extension": ".py",
   "mimetype": "text/x-python",
   "name": "python",
   "nbconvert_exporter": "python",
   "pygments_lexer": "ipython3",
   "version": "3.6.4"
  }
 },
 "nbformat": 4,
 "nbformat_minor": 2
}
